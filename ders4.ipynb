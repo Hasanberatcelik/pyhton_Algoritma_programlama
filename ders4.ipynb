{
  "nbformat": 4,
  "nbformat_minor": 0,
  "metadata": {
    "colab": {
      "provenance": []
    },
    "kernelspec": {
      "name": "python3",
      "display_name": "Python 3"
    },
    "language_info": {
      "name": "python"
    }
  },
  "cells": [
    {
      "cell_type": "code",
      "source": [
        "print(\"Merhaba, Python Veri Yapıları ve Algoritmalar / Ders 4\")"
      ],
      "metadata": {
        "colab": {
          "base_uri": "https://localhost:8080/"
        },
        "id": "Y7ClDdPxOo_5",
        "outputId": "e2c7e8d1-2e24-49ce-bfa0-8090730a41a7"
      },
      "execution_count": 1,
      "outputs": [
        {
          "output_type": "stream",
          "name": "stdout",
          "text": [
            "Merhaba, Python Veri Yapıları ve Algoritmalar / Ders 4\n"
          ]
        }
      ]
    },
    {
      "cell_type": "code",
      "execution_count": 2,
      "metadata": {
        "colab": {
          "base_uri": "https://localhost:8080/"
        },
        "id": "e4MGQ9uJKRHZ",
        "outputId": "b32a86ce-aac4-42c9-de2d-1c0cb89f2d42"
      },
      "outputs": [
        {
          "output_type": "stream",
          "name": "stdout",
          "text": [
            "3.11.11 (main, Dec  4 2024, 08:55:07) [GCC 11.4.0]\n"
          ]
        }
      ],
      "source": [
        "import sys #import python programlama dilinde kütüphane eklemeye yarayan bir kod blogudur.\n",
        "print(sys.version)\n"
      ]
    },
    {
      "cell_type": "code",
      "source": [
        "from google.colab import drive # google colab - drive bağlantısı\n",
        "\n",
        "drive.mount('/content/drive')"
      ],
      "metadata": {
        "id": "vDNjWYSlKoNt",
        "colab": {
          "base_uri": "https://localhost:8080/"
        },
        "outputId": "12504a1f-c595-441e-d6f9-e541c5abba96"
      },
      "execution_count": 3,
      "outputs": [
        {
          "output_type": "stream",
          "name": "stdout",
          "text": [
            "Mounted at /content/drive\n"
          ]
        }
      ]
    },
    {
      "cell_type": "code",
      "source": [
        "import os\n",
        "os.chdir('/content/drive/My Drive/Algoritmalar_myo')\n",
        "!pwd # ilk kod blogunun cıktısını bize veren bir kod blogudur."
      ],
      "metadata": {
        "colab": {
          "base_uri": "https://localhost:8080/"
        },
        "id": "8pajk6ywPAAJ",
        "outputId": "ed32abb3-77cd-4dd9-e84c-277f6cc71f64"
      },
      "execution_count": 4,
      "outputs": [
        {
          "output_type": "stream",
          "name": "stdout",
          "text": [
            "/content/drive/My Drive/Algoritmalar_myo\n"
          ]
        }
      ]
    },
    {
      "cell_type": "code",
      "source": [
        "Ders_no = 4 # Int - tam sayı degiskeni tanımlanmıştır\n",
        "pi_sayisi = 3.14 # Float - kesirli sayı türü\n",
        "Dersin_ismi = \"Python - Veri Yapıları ve Algoritmalar\" # String - Metinsel bilgi türü\n",
        "durum1 = True # Bool degisken veri türü\n",
        "durum2 = False # Bool degisken  veri türü\n",
        "\n",
        "print(Ders_no)\n",
        "print(pi_sayisi)\n",
        "print(Dersin_ismi)\n",
        "print(durum1)\n",
        "print(durum2)"
      ],
      "metadata": {
        "colab": {
          "base_uri": "https://localhost:8080/"
        },
        "id": "83rjwl6nPLSx",
        "outputId": "b3d2cb13-b475-44a8-bd74-aba9564c3b18"
      },
      "execution_count": 5,
      "outputs": [
        {
          "output_type": "stream",
          "name": "stdout",
          "text": [
            "4\n",
            "3.14\n",
            "Python - Veri Yapıları ve Algoritmalar\n",
            "True\n",
            "False\n"
          ]
        }
      ]
    },
    {
      "cell_type": "code",
      "source": [
        "print(\"1. Değişkenin Değeri: \", Ders_no, \"- 1. Değişkenin Türü: \", type(Ders_no))\n",
        "print(\"2. Değişkenin Değeri: \", pi_sayisi, \"- 2. Değişkenin Türü: \", type(pi_sayisi))\n",
        "print(\"3. Değişkenin Değeri: \", Dersin_ismi, \"- 3. Değişkenin Türü: \", type(Dersin_ismi))\n",
        "print(\"4. Değişkenin Değeri: \", durum1, \"- 4. Değişkenin Türü: \", type(durum1))\n",
        "print(\"5. Değişkenin Değeri: \", durum2, \"- 5. Değişkenin Türü: \", type(durum2))"
      ],
      "metadata": {
        "colab": {
          "base_uri": "https://localhost:8080/"
        },
        "id": "RcXvIjzBfjCi",
        "outputId": "1176ad90-9e6c-42db-94b8-bd91088199c3"
      },
      "execution_count": 6,
      "outputs": [
        {
          "output_type": "stream",
          "name": "stdout",
          "text": [
            "1. Değişkenin Değeri:  4 - 1. Değişkenin Türü:  <class 'int'>\n",
            "2. Değişkenin Değeri:  3.14 - 2. Değişkenin Türü:  <class 'float'>\n",
            "3. Değişkenin Değeri:  Python - Veri Yapıları ve Algoritmalar - 3. Değişkenin Türü:  <class 'str'>\n",
            "4. Değişkenin Değeri:  True - 4. Değişkenin Türü:  <class 'bool'>\n",
            "5. Değişkenin Değeri:  False - 5. Değişkenin Türü:  <class 'bool'>\n"
          ]
        }
      ]
    },
    {
      "cell_type": "code",
      "source": [
        "a = 7\n",
        "b = 3\n",
        "\n",
        "print(\"Toplama:\", a+b)\n",
        "print(\"Üs Alma: \", a**b)\n",
        "print(\"Mod Alma:\", a%b)\n",
        "print(\"a == b:\", a == b)\n",
        "print(\"a > b:\", a > b)\n",
        ""
      ],
      "metadata": {
        "colab": {
          "base_uri": "https://localhost:8080/"
        },
        "id": "K2zvut-XgxGb",
        "outputId": "60ed2355-6d9f-4c96-a2a0-51647b18680f"
      },
      "execution_count": 7,
      "outputs": [
        {
          "output_type": "stream",
          "name": "stdout",
          "text": [
            "Toplama: 10\n",
            "Üs Alma:  343\n",
            "Mod Alma: 1\n",
            "a == b: False\n",
            "a > b: True\n"
          ]
        }
      ]
    },
    {
      "cell_type": "code",
      "source": [
        "a = True # True - Doğru - 1\n",
        "b = False # False - Yanlış - 0\n",
        "\n",
        "print(\"a ve_kapısı b:\", a and b)\n",
        "print(\"a veya_kapısı b:\", a or b)\n",
        "print(\"a degiskenin tersliyoruz:\", not a)"
      ],
      "metadata": {
        "colab": {
          "base_uri": "https://localhost:8080/"
        },
        "id": "9ZNBGb40hpDn",
        "outputId": "52c5b897-a93f-45a6-9d8e-8a5c6c08cada"
      },
      "execution_count": 8,
      "outputs": [
        {
          "output_type": "stream",
          "name": "stdout",
          "text": [
            "a ve_kapısı b: False\n",
            "a veya_kapısı b: True\n",
            "a degiskenin tersliyoruz: False\n"
          ]
        }
      ]
    },
    {
      "cell_type": "code",
      "source": [
        "x = 7\n",
        "y = 4\n",
        "x += 3 # x = x + 3\n",
        "y -= 3 # y = y - 3\n",
        "\n",
        "print(x)\n",
        "print(y)"
      ],
      "metadata": {
        "colab": {
          "base_uri": "https://localhost:8080/"
        },
        "id": "NiNTT2PgiLeH",
        "outputId": "d1696987-3f84-4b59-e38d-47bf665180e7"
      },
      "execution_count": 9,
      "outputs": [
        {
          "output_type": "stream",
          "name": "stdout",
          "text": [
            "10\n",
            "1\n"
          ]
        }
      ]
    },
    {
      "cell_type": "code",
      "source": [
        "a = 7\n",
        "b = 3\n",
        "\n",
        "print(a & b)\n",
        "print(a | b)\n",
        "print(a ^ b)\n",
        ""
      ],
      "metadata": {
        "colab": {
          "base_uri": "https://localhost:8080/"
        },
        "id": "LNDfnP04jLTN",
        "outputId": "6c7634e0-5ba1-490f-f208-77783a1fe1ef"
      },
      "execution_count": 10,
      "outputs": [
        {
          "output_type": "stream",
          "name": "stdout",
          "text": [
            "3\n",
            "7\n",
            "4\n"
          ]
        }
      ]
    },
    {
      "cell_type": "code",
      "source": [
        "print(7 & 3)  # 3\n",
        "print(7 | 3)  # 7\n",
        "print(7 ^ 3)  # 4\n",
        "print(~3)     # -4\n",
        "print(7 << 3) # 56\n",
        "print(7 >> 3) # 0"
      ],
      "metadata": {
        "colab": {
          "base_uri": "https://localhost:8080/"
        },
        "id": "pumQUhs9pI0y",
        "outputId": "ac1c8c2d-58de-47f4-fa5c-7ff05b368ac2"
      },
      "execution_count": 11,
      "outputs": [
        {
          "output_type": "stream",
          "name": "stdout",
          "text": [
            "3\n",
            "7\n",
            "4\n",
            "-4\n",
            "56\n",
            "0\n"
          ]
        }
      ]
    }
  ]
}