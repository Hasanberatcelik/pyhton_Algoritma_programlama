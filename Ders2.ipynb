{
  "nbformat": 4,
  "nbformat_minor": 0,
  "metadata": {
    "colab": {
      "provenance": []
    },
    "kernelspec": {
      "name": "python3",
      "display_name": "Python 3"
    },
    "language_info": {
      "name": "python"
    }
  },
  "cells": [
    {
      "cell_type": "code",
      "execution_count": null,
      "metadata": {
        "colab": {
          "base_uri": "https://localhost:8080/"
        },
        "id": "FySfMSP7H8wV",
        "outputId": "e34db749-a304-4492-850a-90a6efefa700"
      },
      "outputs": [
        {
          "output_type": "stream",
          "name": "stdout",
          "text": [
            "MERHABA Python Algoritma Sınıfı\n"
          ]
        }
      ],
      "source": [
        "print (\"MERHABA Python Algoritma Sınıfı\")"
      ]
    },
    {
      "cell_type": "markdown",
      "source": [
        "string bilgi türü -> metinsel ifadedir /\n",
        "int bilgi türü -> sayısal ifadedir\n"
      ],
      "metadata": {
        "id": "5SO1wnKxLCv0"
      }
    },
    {
      "cell_type": "code",
      "source": [
        "import sys #import python programlama dilinde kütüphane eklemeye yarayan bir kod blogudur.\n",
        "print(sys.version)"
      ],
      "metadata": {
        "colab": {
          "base_uri": "https://localhost:8080/"
        },
        "id": "O5hjUJasMk86",
        "outputId": "5b9c48cd-510f-4cb3-abe9-0a92af5bd879"
      },
      "execution_count": null,
      "outputs": [
        {
          "output_type": "stream",
          "name": "stdout",
          "text": [
            "3.11.11 (main, Dec  4 2024, 08:55:07) [GCC 11.4.0]\n"
          ]
        }
      ]
    },
    {
      "cell_type": "code",
      "source": [
        "from google.colab import drive\n",
        "drive.mount('/content/drive')"
      ],
      "metadata": {
        "colab": {
          "base_uri": "https://localhost:8080/"
        },
        "id": "XQ-YH9_VNKWH",
        "outputId": "5dab7146-0f4b-4551-dc40-a03fec4717c2"
      },
      "execution_count": null,
      "outputs": [
        {
          "output_type": "stream",
          "name": "stdout",
          "text": [
            "Mounted at /content/drive\n"
          ]
        }
      ]
    },
    {
      "cell_type": "code",
      "source": [
        "\n",
        "import os\n",
        "os.chdir('/content/drive/My Drive/Algoritmalar_myo')\n",
        "!pwd # ilk kod blogunun cıktısını bize veren bir kod blogudur."
      ],
      "metadata": {
        "colab": {
          "base_uri": "https://localhost:8080/"
        },
        "id": "XEY7tM2LPctC",
        "outputId": "cb11d8d8-ce50-4493-f209-ca9f34717987"
      },
      "execution_count": null,
      "outputs": [
        {
          "output_type": "stream",
          "name": "stdout",
          "text": [
            "/content/drive/My Drive/Algoritmalar_myo\n"
          ]
        }
      ]
    }
  ]
}